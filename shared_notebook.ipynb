{
 "cells": [
  {
   "cell_type": "markdown",
   "id": "c018a5eb",
   "metadata": {},
   "source": [
    "# To do list / Goals \n",
    "* Code that generates a random example √\n",
    "* Code that checks if random example is dendrite separable\n",
    "    - according to sign condition\n",
    "    - identifies what makes it inseparable \n",
    "    - identifies if numerical issues\n",
    "\n",
    "## Possible linear programming packages \n",
    "\n",
    "PuLP: https://coin-or.github.io/pulp/ or \n",
    "\n",
    "CVXOPT: https://cvxopt.org/userguide/intro.html "
   ]
  },
  {
   "cell_type": "code",
   "execution_count": null,
   "id": "3ffdffbf",
   "metadata": {},
   "outputs": [],
   "source": []
  },
  {
   "cell_type": "code",
   "execution_count": null,
   "id": "be07d652",
   "metadata": {},
   "outputs": [],
   "source": []
  }
 ],
 "metadata": {
  "kernelspec": {
   "display_name": "dendrites",
   "language": "python",
   "name": "python3"
  },
  "language_info": {
   "name": "python",
   "version": "-1.-1.-1"
  }
 },
 "nbformat": 4,
 "nbformat_minor": 5
}
